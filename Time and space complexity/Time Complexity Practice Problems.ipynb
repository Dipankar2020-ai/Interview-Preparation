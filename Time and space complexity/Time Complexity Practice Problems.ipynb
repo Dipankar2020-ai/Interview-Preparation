{
 "cells": [
  {
   "cell_type": "code",
   "execution_count": null,
   "id": "07fee105",
   "metadata": {},
   "outputs": [],
   "source": [
    "What is the time complexity of the following code :\n",
    "\n",
    "int i, j, k = 0;\n",
    "for (i = n/2; i <= n; i++) {\n",
    "    for (j = 2; j <= n; j = j * 2) {\n",
    "         k = k + n/2;\n",
    "    }\n",
    "}"
   ]
  },
  {
   "cell_type": "markdown",
   "id": "86fb9486",
   "metadata": {},
   "source": [
    "=> Θ(nLogn)"
   ]
  },
  {
   "cell_type": "code",
   "execution_count": null,
   "id": "1d1b0e9c",
   "metadata": {},
   "outputs": [],
   "source": [
    "In the following C++ function, let n >= m.\n",
    "\n",
    "\n",
    "int gcd(int n, int m) {\n",
    "  if (n%m ==0) return m;\n",
    "  if (n < m) swap(n, m);\n",
    "  while (m > 0) {\n",
    "    n = n%m;\n",
    "    swap(n, m);\n",
    "  }\n",
    "  return n;\n",
    "}"
   ]
  },
  {
   "cell_type": "code",
   "execution_count": null,
   "id": "00e0b789",
   "metadata": {},
   "outputs": [],
   "source": [
    "=> Θ(logn)"
   ]
  },
  {
   "cell_type": "code",
   "execution_count": null,
   "id": "ae8d1d70",
   "metadata": {},
   "outputs": [],
   "source": [
    "In a competition, four different functions are observed. All the functions use a single for loop and within the for loop, same set of statements are executed.\n",
    "\n",
    "Consider the following for loops:\n",
    "\n",
    "  A) for(i = 0; i < n; i++)\n",
    " \n",
    "  B) for(i = 0; i < n; i += 2)\n",
    " \n",
    "  C) for(i = 1; i < n; i *= 2)\n",
    " \n",
    "  D) for(i = n; i > -1; i /= 2)\n",
    "If n is the size of input(positive), which function is the most efficient? In other words, which loop completes the fastest."
   ]
  },
  {
   "cell_type": "code",
   "execution_count": null,
   "id": "b42bbcf7",
   "metadata": {},
   "outputs": [],
   "source": [
    "=> C"
   ]
  },
  {
   "cell_type": "code",
   "execution_count": null,
   "id": "922677f6",
   "metadata": {},
   "outputs": [],
   "source": [
    "Which of the following is not bounded by O(n^2)?\n",
    "https://www.interviewbit.com/problems/choose1/"
   ]
  },
  {
   "cell_type": "code",
   "execution_count": null,
   "id": "c895d12c",
   "metadata": {},
   "outputs": [],
   "source": [
    "=> n^3 / (sqrt(n))"
   ]
  },
  {
   "cell_type": "code",
   "execution_count": null,
   "id": "17cf51c0",
   "metadata": {},
   "outputs": [],
   "source": [
    "Which of the given options provides the increasing order of complexity of functions f1, f2, f3 and f4:\n",
    "\n",
    "f1(n) = 2^n\n",
    "\n",
    "f2(n) = n^(3/2)\n",
    "\n",
    "f3(n) = nLogn\n",
    "\n",
    "f4(n) = n^(Logn)"
   ]
  },
  {
   "cell_type": "code",
   "execution_count": null,
   "id": "fe90d6c8",
   "metadata": {},
   "outputs": [],
   "source": [
    "=>f3, f2, f4, f1"
   ]
  },
  {
   "cell_type": "code",
   "execution_count": null,
   "id": "d0859f39",
   "metadata": {},
   "outputs": [],
   "source": [
    "What is the worst case time complexity of the following code :\n",
    "\n",
    "/* \n",
    " * V is sorted \n",
    " * V.size() = N\n",
    " * The function is initially called as searchNumOccurrence(V, k, 0, N-1)\n",
    " */\n",
    "int searchNumOccurrence(vector<int> &V, int k, int start, int end) {\n",
    "    if (start > end) return 0;\n",
    "    int mid = (start + end) / 2;\n",
    "    if (V[mid] < k) return searchNumOccurrence(V, k, mid + 1, end);\n",
    "    if (V[mid] > k) return searchNumOccurrence(V, k, start, mid - 1);\n",
    "    return searchNumOccurrence(V, k, start, mid - 1) + 1 + searchNumOccurrence(V, k, mid + 1, end);\n",
    "}\n",
    "NOTE : This question involves recursion which will be explained later in topic Backtracking. So, if you are not able to approach this question now, you can give it a try later"
   ]
  },
  {
   "cell_type": "code",
   "execution_count": null,
   "id": "c52c5579",
   "metadata": {},
   "outputs": [],
   "source": [
    "=> O(N)"
   ]
  },
  {
   "cell_type": "code",
   "execution_count": null,
   "id": "2a97d8ec",
   "metadata": {},
   "outputs": [],
   "source": [
    "How many times the following loop runs for given value of n?\n",
    "\n",
    "for(int i=2 ; i<=n ; i=i*4){\n",
    "\n",
    "printf(\"%d\",i);\n",
    "\n",
    "}"
   ]
  },
  {
   "cell_type": "code",
   "execution_count": null,
   "id": "d93af61c",
   "metadata": {},
   "outputs": [],
   "source": [
    "=> O(logn)"
   ]
  },
  {
   "cell_type": "code",
   "execution_count": null,
   "id": "cb5b45d7",
   "metadata": {},
   "outputs": [],
   "source": [
    "What is the running time of the program?\n",
    "\n",
    "void fun(int n, int arr[]){\n",
    "\n",
    "int i = 0, j = 0;\n",
    "\n",
    "for(; i < n; ++i)\n",
    "\n",
    "while(j < n && arr[i] < arr[j])\n",
    "\n",
    "j++;\n",
    "\n",
    "}"
   ]
  },
  {
   "cell_type": "code",
   "execution_count": null,
   "id": "33e991db",
   "metadata": {},
   "outputs": [],
   "source": [
    "=> o(n).Since the variable j is not initialized for each value of variable i. So, the inner loop runs at most n times"
   ]
  },
  {
   "cell_type": "code",
   "execution_count": null,
   "id": "4eafab95",
   "metadata": {},
   "outputs": [],
   "source": [
    "Consider an array of elements arr[6] = {31,41,59,26,41,58} , Number of iterations required to sort the elements in the given array by using insertion sort"
   ]
  },
  {
   "cell_type": "code",
   "execution_count": null,
   "id": "d860f892",
   "metadata": {},
   "outputs": [],
   "source": [
    "=> 5.First Iteration: 31 41 59 26 41 58\n",
    "\n",
    "Second Iteration: 31 41 59 26 41 58\n",
    "\n",
    "Third Iteration: 26 31 41 59 41 58\n",
    "\n",
    "Fourth Iteration: 26 31 41 41 59 58\n",
    "\n",
    "Fifth Iteration: 26 31 41 41 58 59"
   ]
  },
  {
   "cell_type": "code",
   "execution_count": null,
   "id": "cc41052e",
   "metadata": {},
   "outputs": [],
   "source": [
    "Which one of the following is the tightest upper bound that represents the number of swaps required to sort n numbers using insertion sort?"
   ]
  },
  {
   "cell_type": "code",
   "execution_count": null,
   "id": "8e6d8cfa",
   "metadata": {},
   "outputs": [],
   "source": [
    "=> O(n^2).The simplest worst case input is an array sorted in reverse order. The set of all worst case inputs consists of all arrays where each element is the smallest or second-smallest of the elements before it. In these cases every iteration of the inner loop will scan and shift the entire sorted subsection of the array before inserting the next element. This gives insertion sort a quadratic running time (i.e., O(n2))."
   ]
  },
  {
   "cell_type": "code",
   "execution_count": null,
   "id": "975cbde9",
   "metadata": {},
   "outputs": [],
   "source": [
    "What is the efficient asymptotic running time to find the median of a sorted array of size N?"
   ]
  },
  {
   "cell_type": "code",
   "execution_count": null,
   "id": "115eb66f",
   "metadata": {},
   "outputs": [],
   "source": [
    "=>O(1).If array is odd sized pick the middlemost. If even , pick the two middlemost and average. Either way, this can be done in constant number of steps, so O(1).\n"
   ]
  },
  {
   "cell_type": "code",
   "execution_count": null,
   "id": "f2db2f84",
   "metadata": {},
   "outputs": [],
   "source": [
    "Consider the following code segment. Assume n to be a positive integer.\n",
    "\n",
    "for (i = 1; i <= n; i++) {\n",
    "\n",
    "for (j = 1; j <= n; j = j+i) {\n",
    "\n",
    "printf(“Hi”);\n",
    "\n",
    "}\n",
    "\n",
    "}"
   ]
  },
  {
   "cell_type": "code",
   "execution_count": null,
   "id": "68c01450",
   "metadata": {},
   "outputs": [],
   "source": [
    "T(n)=O(nlog n). In the ith iteration, the inner loop runs O(n/i) times, and therefore, the overall complexity is O(n+n/1+n/2+...+1), and this is O(nlogn)."
   ]
  }
 ],
 "metadata": {
  "kernelspec": {
   "display_name": "Python 3 (ipykernel)",
   "language": "python",
   "name": "python3"
  },
  "language_info": {
   "codemirror_mode": {
    "name": "ipython",
    "version": 3
   },
   "file_extension": ".py",
   "mimetype": "text/x-python",
   "name": "python",
   "nbconvert_exporter": "python",
   "pygments_lexer": "ipython3",
   "version": "3.9.7"
  }
 },
 "nbformat": 4,
 "nbformat_minor": 5
}
