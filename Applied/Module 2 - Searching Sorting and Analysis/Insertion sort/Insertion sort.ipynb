{
 "cells": [
  {
   "cell_type": "markdown",
   "id": "42d78be3",
   "metadata": {},
   "source": [
    "### Insertion Sort"
   ]
  },
  {
   "cell_type": "code",
   "execution_count": 3,
   "id": "d3300fd8",
   "metadata": {},
   "outputs": [
    {
     "name": "stdout",
     "output_type": "stream",
     "text": [
      "6 5 3 8 2 1\n",
      "[1, 2, 3, 5, 6, 8]\n"
     ]
    }
   ],
   "source": [
    "def insertionsort(a):\n",
    "    for j in range(1,len(a)):\n",
    "        key=a[j]\n",
    "        i=j-1\n",
    "        while i>=0 and a[i]>key:\n",
    "            a[i+1]=a[i]\n",
    "            i=i-1\n",
    "        a[i+1]=key\n",
    "    return l\n",
    "l=[int(i) for i in input().split()]\n",
    "print(insertionsort(l))\n",
    "        "
   ]
  }
 ],
 "metadata": {
  "kernelspec": {
   "display_name": "Python 3 (ipykernel)",
   "language": "python",
   "name": "python3"
  },
  "language_info": {
   "codemirror_mode": {
    "name": "ipython",
    "version": 3
   },
   "file_extension": ".py",
   "mimetype": "text/x-python",
   "name": "python",
   "nbconvert_exporter": "python",
   "pygments_lexer": "ipython3",
   "version": "3.9.7"
  }
 },
 "nbformat": 4,
 "nbformat_minor": 5
}
